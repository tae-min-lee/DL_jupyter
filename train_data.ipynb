{
  "nbformat": 4,
  "nbformat_minor": 0,
  "metadata": {
    "colab": {
      "name": "train_data",
      "provenance": [],
      "mount_file_id": "1eWR56efE-tbm7GnDiUmim838chAUPw_b",
      "authorship_tag": "ABX9TyPwRAsMBgIPCAkYMpKMvwiI",
      "include_colab_link": true
    },
    "kernelspec": {
      "name": "python3",
      "display_name": "Python 3"
    },
    "language_info": {
      "name": "python"
    },
    "accelerator": "GPU"
  },
  "cells": [
    {
      "cell_type": "markdown",
      "metadata": {
        "id": "view-in-github",
        "colab_type": "text"
      },
      "source": [
        "<a href=\"https://colab.research.google.com/github/tae-min-lee/DL_jupyter/blob/master/train_data.ipynb\" target=\"_parent\"><img src=\"https://colab.research.google.com/assets/colab-badge.svg\" alt=\"Open In Colab\"/></a>"
      ]
    },
    {
      "cell_type": "markdown",
      "source": [
        "## 훈련"
      ],
      "metadata": {
        "id": "_N3NsJ58z4t1"
      }
    },
    {
      "cell_type": "code",
      "source": [
        "import numpy as np\n",
        "import pandas as pd\n",
        "import os\n",
        "from sklearn.preprocessing import LabelEncoder\n",
        "import numpy as np\n",
        "from keras.utils import np_utils"
      ],
      "metadata": {
        "id": "HJ_ft5qZ6oZd"
      },
      "execution_count": null,
      "outputs": []
    },
    {
      "cell_type": "markdown",
      "source": [
        "### 데이터 전리부분\n"
      ],
      "metadata": {
        "id": "dsn6c8htz9uC"
      }
    },
    {
      "cell_type": "code",
      "execution_count": null,
      "metadata": {
        "id": "4G72qv7_x1e0"
      },
      "outputs": [],
      "source": [
        "import pandas as pd\n",
        "\n",
        "data = pd.read_csv('/content/drive/MyDrive/heart stroke/prepro_data_2.csv')"
      ]
    },
    {
      "cell_type": "code",
      "source": [
        "data.head(2)"
      ],
      "metadata": {
        "colab": {
          "base_uri": "https://localhost:8080/",
          "height": 112
        },
        "id": "6I2NQZar0SeT",
        "outputId": "9cc029f5-f66a-40ac-94af-91a993b55e7f"
      },
      "execution_count": null,
      "outputs": [
        {
          "output_type": "execute_result",
          "data": {
            "text/html": [
              "<div>\n",
              "<style scoped>\n",
              "    .dataframe tbody tr th:only-of-type {\n",
              "        vertical-align: middle;\n",
              "    }\n",
              "\n",
              "    .dataframe tbody tr th {\n",
              "        vertical-align: top;\n",
              "    }\n",
              "\n",
              "    .dataframe thead th {\n",
              "        text-align: right;\n",
              "    }\n",
              "</style>\n",
              "<table border=\"1\" class=\"dataframe\">\n",
              "  <thead>\n",
              "    <tr style=\"text-align: right;\">\n",
              "      <th></th>\n",
              "      <th>Unnamed: 0</th>\n",
              "      <th>id</th>\n",
              "      <th>gender</th>\n",
              "      <th>age</th>\n",
              "      <th>hypertension</th>\n",
              "      <th>heart_disease</th>\n",
              "      <th>ever_married</th>\n",
              "      <th>work_type</th>\n",
              "      <th>Residence_type</th>\n",
              "      <th>smoking_status</th>\n",
              "      <th>stroke</th>\n",
              "    </tr>\n",
              "  </thead>\n",
              "  <tbody>\n",
              "    <tr>\n",
              "      <th>0</th>\n",
              "      <td>0</td>\n",
              "      <td>30669</td>\n",
              "      <td>Male</td>\n",
              "      <td>3.0</td>\n",
              "      <td>0</td>\n",
              "      <td>0</td>\n",
              "      <td>No</td>\n",
              "      <td>children</td>\n",
              "      <td>Rural</td>\n",
              "      <td>never smoked</td>\n",
              "      <td>0</td>\n",
              "    </tr>\n",
              "    <tr>\n",
              "      <th>1</th>\n",
              "      <td>1</td>\n",
              "      <td>30468</td>\n",
              "      <td>Male</td>\n",
              "      <td>58.0</td>\n",
              "      <td>1</td>\n",
              "      <td>0</td>\n",
              "      <td>Yes</td>\n",
              "      <td>Private</td>\n",
              "      <td>Urban</td>\n",
              "      <td>never smoked</td>\n",
              "      <td>0</td>\n",
              "    </tr>\n",
              "  </tbody>\n",
              "</table>\n",
              "</div>"
            ],
            "text/plain": [
              "   Unnamed: 0     id gender  ...  Residence_type  smoking_status  stroke\n",
              "0           0  30669   Male  ...           Rural    never smoked       0\n",
              "1           1  30468   Male  ...           Urban    never smoked       0\n",
              "\n",
              "[2 rows x 11 columns]"
            ]
          },
          "metadata": {},
          "execution_count": 15
        }
      ]
    },
    {
      "cell_type": "code",
      "source": [
        "data.info()"
      ],
      "metadata": {
        "colab": {
          "base_uri": "https://localhost:8080/"
        },
        "id": "XG7o7hPb0T8m",
        "outputId": "217a94fd-741b-4573-f072-b65635aa6131"
      },
      "execution_count": null,
      "outputs": [
        {
          "output_type": "stream",
          "name": "stdout",
          "text": [
            "<class 'pandas.core.frame.DataFrame'>\n",
            "RangeIndex: 43389 entries, 0 to 43388\n",
            "Data columns (total 11 columns):\n",
            " #   Column          Non-Null Count  Dtype  \n",
            "---  ------          --------------  -----  \n",
            " 0   Unnamed: 0      43389 non-null  int64  \n",
            " 1   id              43389 non-null  int64  \n",
            " 2   gender          43389 non-null  object \n",
            " 3   age             43389 non-null  float64\n",
            " 4   hypertension    43389 non-null  int64  \n",
            " 5   heart_disease   43389 non-null  int64  \n",
            " 6   ever_married    43389 non-null  object \n",
            " 7   work_type       43389 non-null  object \n",
            " 8   Residence_type  43389 non-null  object \n",
            " 9   smoking_status  43389 non-null  object \n",
            " 10  stroke          43389 non-null  int64  \n",
            "dtypes: float64(1), int64(5), object(5)\n",
            "memory usage: 3.6+ MB\n"
          ]
        }
      ]
    },
    {
      "cell_type": "markdown",
      "source": [
        "#### 불필요한 컬럼 제거\n",
        "id값과 Unnamed는 예측에 전혀 필요가 없으니 제거 한다"
      ],
      "metadata": {
        "id": "E2j46DRm0ebz"
      }
    },
    {
      "cell_type": "code",
      "source": [
        "h_data = data.drop(['Unnamed: 0','id'],axis=1)"
      ],
      "metadata": {
        "id": "YAsFgLVH0YNZ"
      },
      "execution_count": null,
      "outputs": []
    },
    {
      "cell_type": "code",
      "source": [
        "h_data.head(2)"
      ],
      "metadata": {
        "colab": {
          "base_uri": "https://localhost:8080/",
          "height": 112
        },
        "id": "SsySe2eZ02oe",
        "outputId": "a4baab3b-0ca9-4bf5-e5d9-fd82c1f17628"
      },
      "execution_count": null,
      "outputs": [
        {
          "output_type": "execute_result",
          "data": {
            "text/html": [
              "<div>\n",
              "<style scoped>\n",
              "    .dataframe tbody tr th:only-of-type {\n",
              "        vertical-align: middle;\n",
              "    }\n",
              "\n",
              "    .dataframe tbody tr th {\n",
              "        vertical-align: top;\n",
              "    }\n",
              "\n",
              "    .dataframe thead th {\n",
              "        text-align: right;\n",
              "    }\n",
              "</style>\n",
              "<table border=\"1\" class=\"dataframe\">\n",
              "  <thead>\n",
              "    <tr style=\"text-align: right;\">\n",
              "      <th></th>\n",
              "      <th>gender</th>\n",
              "      <th>age</th>\n",
              "      <th>hypertension</th>\n",
              "      <th>heart_disease</th>\n",
              "      <th>ever_married</th>\n",
              "      <th>work_type</th>\n",
              "      <th>Residence_type</th>\n",
              "      <th>smoking_status</th>\n",
              "      <th>stroke</th>\n",
              "    </tr>\n",
              "  </thead>\n",
              "  <tbody>\n",
              "    <tr>\n",
              "      <th>0</th>\n",
              "      <td>Male</td>\n",
              "      <td>3.0</td>\n",
              "      <td>0</td>\n",
              "      <td>0</td>\n",
              "      <td>No</td>\n",
              "      <td>children</td>\n",
              "      <td>Rural</td>\n",
              "      <td>never smoked</td>\n",
              "      <td>0</td>\n",
              "    </tr>\n",
              "    <tr>\n",
              "      <th>1</th>\n",
              "      <td>Male</td>\n",
              "      <td>58.0</td>\n",
              "      <td>1</td>\n",
              "      <td>0</td>\n",
              "      <td>Yes</td>\n",
              "      <td>Private</td>\n",
              "      <td>Urban</td>\n",
              "      <td>never smoked</td>\n",
              "      <td>0</td>\n",
              "    </tr>\n",
              "  </tbody>\n",
              "</table>\n",
              "</div>"
            ],
            "text/plain": [
              "  gender   age  hypertension  ...  Residence_type smoking_status stroke\n",
              "0   Male   3.0             0  ...           Rural   never smoked      0\n",
              "1   Male  58.0             1  ...           Urban   never smoked      0\n",
              "\n",
              "[2 rows x 9 columns]"
            ]
          },
          "metadata": {},
          "execution_count": 18
        }
      ]
    },
    {
      "cell_type": "code",
      "source": [
        "print('성별\\n',h_data['gender'].value_counts(),'\\n')\n",
        "print('결혼 여부\\n',h_data['ever_married'].value_counts(),'\\n')\n",
        "print('일의 종류\\n',h_data['work_type'].value_counts(),'\\n')\n",
        "print('주거 장소\\n',h_data['Residence_type'].value_counts(),'\\n')\n",
        "print('흡연여부\\n',h_data['smoking_status'].value_counts(),'\\n')"
      ],
      "metadata": {
        "colab": {
          "base_uri": "https://localhost:8080/"
        },
        "id": "7i4X5QkB03wH",
        "outputId": "c4daaadb-134f-469a-c180-155cdae2900f"
      },
      "execution_count": null,
      "outputs": [
        {
          "output_type": "stream",
          "name": "stdout",
          "text": [
            "성별\n",
            " Female    25665\n",
            "Male      17724\n",
            "Name: gender, dtype: int64 \n",
            "\n",
            "결혼 여부\n",
            " Yes    27933\n",
            "No     15456\n",
            "Name: ever_married, dtype: int64 \n",
            "\n",
            "일의 종류\n",
            " Private          24827\n",
            "Self-employed     6793\n",
            "children          6154\n",
            "Govt_job          5438\n",
            "Never_worked       177\n",
            "Name: work_type, dtype: int64 \n",
            "\n",
            "주거 장소\n",
            " Urban    21751\n",
            "Rural    21638\n",
            "Name: Residence_type, dtype: int64 \n",
            "\n",
            "흡연여부\n",
            " never smoked       29341\n",
            "formerly smoked     7487\n",
            "smokes              6561\n",
            "Name: smoking_status, dtype: int64 \n",
            "\n"
          ]
        }
      ]
    },
    {
      "cell_type": "markdown",
      "source": [
        "레이블 값을 분리(stroke)"
      ],
      "metadata": {
        "id": "Hv9XKvLM2NHu"
      }
    },
    {
      "cell_type": "code",
      "source": [
        "data_f = h_data.drop('stroke',axis=1)\n",
        "data_l = h_data['stroke'] # 0은 정상 1은 심장마비로 사망"
      ],
      "metadata": {
        "id": "l9apIKwO11NN"
      },
      "execution_count": null,
      "outputs": []
    },
    {
      "cell_type": "markdown",
      "source": [
        "범주형 데이터를 매핑을 이용해서 정수형으로 바꿔준다"
      ],
      "metadata": {
        "id": "J_aN9V4r3IOi"
      }
    },
    {
      "cell_type": "code",
      "source": [
        "gender_mapping = {'Female':0,'Male':1}\n",
        "married_mapping = {'Yes':0,'No':1}\n",
        "work_mapping = {'Private':0,'Self-employed':1,'children':2,'Govt_job':3,'Never_worked':4}\n",
        "Res_mapping = {'Urban':0,'Rural':1}\n",
        "smoke_mapping ={'never smoked':0,'formerly smoked':1,'smokes':2}"
      ],
      "metadata": {
        "id": "tQgiN6Tf2ibd"
      },
      "execution_count": null,
      "outputs": []
    },
    {
      "cell_type": "code",
      "source": [
        "data_f['gender'] = data_f['gender'].map(gender_mapping)\n",
        "data_f['ever_married'] = data_f['ever_married'].map(married_mapping)\n",
        "data_f['work_type'] = data_f['work_type'].map(work_mapping)\n",
        "data_f['Residence_type'] = data_f['Residence_type'].map(Res_mapping)\n",
        "data_f['smoking_status'] = data_f['smoking_status'].map(smoke_mapping)"
      ],
      "metadata": {
        "id": "pqRvlhDK4epk"
      },
      "execution_count": null,
      "outputs": []
    },
    {
      "cell_type": "code",
      "source": [
        "data_f.info() # 정수형으로 바뀐걸 확인"
      ],
      "metadata": {
        "colab": {
          "base_uri": "https://localhost:8080/"
        },
        "id": "w1lERKC94qkj",
        "outputId": "059c3611-3738-4ba5-e3b4-c7d6e744b13b"
      },
      "execution_count": null,
      "outputs": [
        {
          "output_type": "stream",
          "name": "stdout",
          "text": [
            "<class 'pandas.core.frame.DataFrame'>\n",
            "RangeIndex: 43389 entries, 0 to 43388\n",
            "Data columns (total 8 columns):\n",
            " #   Column          Non-Null Count  Dtype  \n",
            "---  ------          --------------  -----  \n",
            " 0   gender          43389 non-null  int64  \n",
            " 1   age             43389 non-null  float64\n",
            " 2   hypertension    43389 non-null  int64  \n",
            " 3   heart_disease   43389 non-null  int64  \n",
            " 4   ever_married    43389 non-null  int64  \n",
            " 5   work_type       43389 non-null  int64  \n",
            " 6   Residence_type  43389 non-null  int64  \n",
            " 7   smoking_status  43389 non-null  int64  \n",
            "dtypes: float64(1), int64(7)\n",
            "memory usage: 2.6 MB\n"
          ]
        }
      ]
    },
    {
      "cell_type": "code",
      "source": [
        "data_f.to_csv('/content/drive/MyDrive/heart stroke/data_f.csv')"
      ],
      "metadata": {
        "id": "xGVCm-FWJOuN"
      },
      "execution_count": null,
      "outputs": []
    },
    {
      "cell_type": "markdown",
      "source": [
        "#### 정규화\n",
        "값 정규화를 진행"
      ],
      "metadata": {
        "id": "ESGrjluV6W9g"
      }
    },
    {
      "cell_type": "code",
      "source": [
        "feature_data = data_f.to_numpy() # 먼저 넘파이로 바꿔줌\n",
        "label_data = data_l.to_numpy()"
      ],
      "metadata": {
        "id": "q_UC5CRH5woP"
      },
      "execution_count": null,
      "outputs": []
    },
    {
      "cell_type": "code",
      "source": [
        "def Normalize(input_data): #정규화를 시켜주는 부분\n",
        "  x_data = input_data.astype('float32')\n",
        "\n",
        "  mean = x_data.mean(axis=0) # 평균값을 구함\n",
        "  std =x_data.std(axis=0) #표준편차를 구함\n",
        "\n",
        "  output_data = input_data.astype('float32') # 실수형으로 변환 뒤 모든 데이터에서 평균을 빼주고 표준편차로 나눔\n",
        "  output_data -= mean\n",
        "  output_data /= std\n",
        "\n",
        "  return output_data"
      ],
      "metadata": {
        "id": "glH3veAS65Fn"
      },
      "execution_count": null,
      "outputs": []
    },
    {
      "cell_type": "code",
      "source": [
        "feature_data = Normalize(feature_data)"
      ],
      "metadata": {
        "id": "jcakk1NX7c8n"
      },
      "execution_count": null,
      "outputs": []
    },
    {
      "cell_type": "code",
      "source": [
        "feature_data.shape"
      ],
      "metadata": {
        "colab": {
          "base_uri": "https://localhost:8080/"
        },
        "id": "BC4E7Z548X0K",
        "outputId": "ca7f679b-d086-4d8d-efb2-f968621bfa51"
      },
      "execution_count": null,
      "outputs": [
        {
          "output_type": "execute_result",
          "data": {
            "text/plain": [
              "(43389, 8)"
            ]
          },
          "metadata": {},
          "execution_count": 28
        }
      ]
    },
    {
      "cell_type": "markdown",
      "source": [
        "### 정밀도 재현율 부분"
      ],
      "metadata": {
        "id": "W3k0slD88h-j"
      }
    },
    {
      "cell_type": "code",
      "source": [
        "# from keras import backend as K\n",
        "\n",
        "# def recall_m(y_true, y_pred):  # 재현율을 만드는 함수\n",
        "#     true_positives = K.sum(K.round(K.clip(y_true * y_pred, 0, 1)))\n",
        "#     possible_positives = K.sum(K.round(K.clip(y_true, 0, 1)))\n",
        "#     recall = true_positives / (possible_positives + K.epsilon())\n",
        "#     return recall\n",
        "\n",
        "# def precision_m(y_true, y_pred): # 정밀도 함수\n",
        "#     true_positives = K.sum(K.round(K.clip(y_true * y_pred, 0, 1)))\n",
        "#     predicted_positives = K.sum(K.round(K.clip(y_pred, 0, 1)))\n",
        "#     precision = true_positives / (predicted_positives + K.epsilon())\n",
        "#     return precision"
      ],
      "metadata": {
        "id": "sn83Z_5I8ZOu"
      },
      "execution_count": null,
      "outputs": []
    },
    {
      "cell_type": "markdown",
      "source": [
        "### 훈련 검증 테스트 데이터 나누기"
      ],
      "metadata": {
        "id": "Ltjl-TpJ8tZT"
      }
    },
    {
      "cell_type": "markdown",
      "source": [
        "훈련과 테스트로 나누고 다음에는 검증으로 한 번 더 나눈다"
      ],
      "metadata": {
        "id": "6bOeVTNi9NhN"
      }
    },
    {
      "cell_type": "code",
      "source": [
        "from sklearn.model_selection import train_test_split\n",
        "\n",
        "train_data, test_data, train_lables, test_labels = train_test_split(feature_data, label_data, test_size=0.2, shuffle=True, stratify=label_data, random_state=34)"
      ],
      "metadata": {
        "id": "FslFflw18l9W"
      },
      "execution_count": null,
      "outputs": []
    },
    {
      "cell_type": "code",
      "source": [
        "print('테스트 데이터의 수:',len(test_data))"
      ],
      "metadata": {
        "colab": {
          "base_uri": "https://localhost:8080/"
        },
        "id": "o4EaVGko9EW7",
        "outputId": "02347cfa-aae3-4fdc-fada-36ba0874e7c8"
      },
      "execution_count": null,
      "outputs": [
        {
          "output_type": "stream",
          "name": "stdout",
          "text": [
            "테스트 데이터의 수: 8678\n"
          ]
        }
      ]
    },
    {
      "cell_type": "code",
      "source": [
        "train_data, valid_data, train_lables, valid_labels = train_test_split(train_data, train_lables, test_size=0.2, shuffle=True, stratify=train_lables, random_state=34)"
      ],
      "metadata": {
        "id": "Or_f6Qg49Kiz"
      },
      "execution_count": null,
      "outputs": []
    },
    {
      "cell_type": "code",
      "source": [
        "print(\"훈련 데이터:\",len(train_data))\n",
        "print(\"검증 데이터:\",len(valid_data))"
      ],
      "metadata": {
        "colab": {
          "base_uri": "https://localhost:8080/"
        },
        "id": "3KFtSGD29l17",
        "outputId": "5dfe60dd-70e9-4a1f-9804-1a9ef40be445"
      },
      "execution_count": null,
      "outputs": [
        {
          "output_type": "stream",
          "name": "stdout",
          "text": [
            "훈련 데이터: 27768\n",
            "검증 데이터: 6943\n"
          ]
        }
      ]
    },
    {
      "cell_type": "code",
      "source": [
        "from keras import models \n",
        "from keras import layers\n",
        "from keras.layers import Dropout  \n",
        "\n",
        "model = models.Sequential()\n",
        "model.add(layers.Dense(32,activation='relu',input_shape=(8,)))\n",
        "model.add(Dropout(0.2))\n",
        "model.add(layers.Dense(16,activation='relu'))\n",
        "model.add(Dropout(0.2))\n",
        "model.add(layers.Dense(1,activation='sigmoid'))"
      ],
      "metadata": {
        "id": "7KrFfEcv9u4U"
      },
      "execution_count": null,
      "outputs": []
    },
    {
      "cell_type": "code",
      "source": [
        "model.compile(optimizer='rmsprop',\n",
        "              loss='binary_crossentropy',\n",
        "              metrics=['accuracy'])"
      ],
      "metadata": {
        "id": "mtBVdECv-DiP"
      },
      "execution_count": null,
      "outputs": []
    },
    {
      "cell_type": "code",
      "source": [
        "model.summary()"
      ],
      "metadata": {
        "colab": {
          "base_uri": "https://localhost:8080/"
        },
        "id": "ATcmOTay-JqX",
        "outputId": "49ea3822-a6af-4e4a-f634-ee840b2e5e61"
      },
      "execution_count": null,
      "outputs": [
        {
          "output_type": "stream",
          "name": "stdout",
          "text": [
            "Model: \"sequential\"\n",
            "_________________________________________________________________\n",
            " Layer (type)                Output Shape              Param #   \n",
            "=================================================================\n",
            " dense (Dense)               (None, 32)                288       \n",
            "                                                                 \n",
            " dropout (Dropout)           (None, 32)                0         \n",
            "                                                                 \n",
            " dense_1 (Dense)             (None, 16)                528       \n",
            "                                                                 \n",
            " dropout_1 (Dropout)         (None, 16)                0         \n",
            "                                                                 \n",
            " dense_2 (Dense)             (None, 1)                 17        \n",
            "                                                                 \n",
            "=================================================================\n",
            "Total params: 833\n",
            "Trainable params: 833\n",
            "Non-trainable params: 0\n",
            "_________________________________________________________________\n"
          ]
        }
      ]
    },
    {
      "cell_type": "code",
      "source": [
        "history_1 = model.fit(train_data,\n",
        "                    train_lables,\n",
        "                    epochs=3,\n",
        "                    batch_size=32,\n",
        "                    validation_data=(valid_data, valid_labels))"
      ],
      "metadata": {
        "colab": {
          "base_uri": "https://localhost:8080/"
        },
        "id": "Ac89RizL-LG6",
        "outputId": "401453d9-fd83-4e18-9cf2-6bd8b14cbda2"
      },
      "execution_count": null,
      "outputs": [
        {
          "output_type": "stream",
          "name": "stdout",
          "text": [
            "Epoch 1/3\n",
            "868/868 [==============================] - 3s 2ms/step - loss: 0.1178 - accuracy: 0.9745 - val_loss: 0.0809 - val_accuracy: 0.9820\n",
            "Epoch 2/3\n",
            "868/868 [==============================] - 2s 2ms/step - loss: 0.0862 - accuracy: 0.9820 - val_loss: 0.0797 - val_accuracy: 0.9820\n",
            "Epoch 3/3\n",
            "868/868 [==============================] - 2s 2ms/step - loss: 0.0854 - accuracy: 0.9820 - val_loss: 0.0808 - val_accuracy: 0.9820\n"
          ]
        }
      ]
    },
    {
      "cell_type": "code",
      "source": [
        "loss, acc  = model.evaluate(test_data,test_labels)"
      ],
      "metadata": {
        "colab": {
          "base_uri": "https://localhost:8080/"
        },
        "id": "8NJwT482-9If",
        "outputId": "ffaf5a21-453a-453e-a2b7-b1bbdbc39e15"
      },
      "execution_count": null,
      "outputs": [
        {
          "output_type": "stream",
          "name": "stdout",
          "text": [
            "272/272 [==============================] - 0s 1ms/step - loss: 0.0790 - accuracy: 0.9819\n"
          ]
        }
      ]
    },
    {
      "cell_type": "code",
      "source": [
        "train_lables[:10]"
      ],
      "metadata": {
        "colab": {
          "base_uri": "https://localhost:8080/"
        },
        "id": "cSy-G5_-_axS",
        "outputId": "b2caaaaa-51fa-4e91-89fa-99e6c6c13538"
      },
      "execution_count": null,
      "outputs": [
        {
          "output_type": "execute_result",
          "data": {
            "text/plain": [
              "array([0, 0, 0, 0, 0, 0, 0, 0, 1, 0])"
            ]
          },
          "metadata": {},
          "execution_count": 44
        }
      ]
    },
    {
      "cell_type": "code",
      "source": [
        "from keras.models import load_model\n",
        "\n",
        "save_model=model.save(\"/content/drive/MyDrive/heart stroke/n_2_model.h5\")"
      ],
      "metadata": {
        "id": "aWmAR_Fw_jvB"
      },
      "execution_count": null,
      "outputs": []
    },
    {
      "cell_type": "code",
      "source": [
        ""
      ],
      "metadata": {
        "id": "C7_qzbhQCVDj"
      },
      "execution_count": null,
      "outputs": []
    }
  ]
}